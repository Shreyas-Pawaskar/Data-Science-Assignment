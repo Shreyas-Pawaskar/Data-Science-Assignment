{
 "cells": [
  {
   "cell_type": "code",
   "execution_count": 1,
   "id": "3f3a7416-a7ed-400a-b3a1-8d5cae9e69f4",
   "metadata": {},
   "outputs": [],
   "source": [
    "import numpy as np\n",
    "import scipy.stats as stats"
   ]
  },
  {
   "cell_type": "code",
   "execution_count": 2,
   "id": "d5802395-afe5-4782-b75c-ec7247481832",
   "metadata": {},
   "outputs": [],
   "source": [
    "data = np.array([1.13, 1.55, 1.43, 0.92, 1.25, 1.36, 1.32, 0.85, 1.07, 1.48, 1.20, 1.33, 1.18, 1.22, 1.29]) # give Data"
   ]
  },
  {
   "cell_type": "code",
   "execution_count": 4,
   "id": "5a229478-0aa6-47e6-945e-9b7eeb4e43be",
   "metadata": {},
   "outputs": [
    {
     "name": "stdout",
     "output_type": "stream",
     "text": [
      "15\n"
     ]
    }
   ],
   "source": [
    "n = len(data)          # Count of data sample\n",
    "print(n)"
   ]
  },
  {
   "cell_type": "code",
   "execution_count": 6,
   "id": "7fd56202-6be9-40c9-99cc-77a731e034e8",
   "metadata": {},
   "outputs": [
    {
     "name": "stdout",
     "output_type": "stream",
     "text": [
      "1.2386666666666666\n"
     ]
    }
   ],
   "source": [
    "sample_mean = np.mean(data)\n",
    "print(sample_mean)"
   ]
  },
  {
   "cell_type": "code",
   "execution_count": 7,
   "id": "215c069e-72ac-4990-9ba4-f312ccfd8327",
   "metadata": {},
   "outputs": [
    {
     "name": "stdout",
     "output_type": "stream",
     "text": [
      "0.19316412956959936\n"
     ]
    }
   ],
   "source": [
    "sample_std = np.std(data, ddof=1)\n",
    "print(sample_std)"
   ]
  },
  {
   "cell_type": "code",
   "execution_count": 9,
   "id": "48a2a6a1-e44e-4738-b4e7-2722d985b022",
   "metadata": {},
   "outputs": [],
   "source": [
    "alpha = 0.01"
   ]
  },
  {
   "cell_type": "code",
   "execution_count": null,
   "id": "71ff1a90-3f8b-4d59-a791-395382bab265",
   "metadata": {},
   "outputs": [],
   "source": []
  },
  {
   "cell_type": "markdown",
   "id": "aca0f1b5-bbc1-4975-ac48-ba1363aec1dd",
   "metadata": {},
   "source": [
    "### a. Build 99% Confidence Interval Using Sample Standard Deviation"
   ]
  },
  {
   "cell_type": "code",
   "execution_count": 10,
   "id": "960acf71-35d1-4bdf-ba49-2d54c36cdae5",
   "metadata": {},
   "outputs": [],
   "source": [
    "t_critical = stats.t.ppf(1 - alpha/2, df=n-1)  # t-score for df=14\n",
    "margin_of_error_t = t_critical * (sample_std / np.sqrt(n))\n",
    "ci_t = (sample_mean - margin_of_error_t, sample_mean + margin_of_error_t)"
   ]
  },
  {
   "cell_type": "code",
   "execution_count": 11,
   "id": "be8f61e3-3c88-4bc0-bf44-83a723568f9e",
   "metadata": {},
   "outputs": [
    {
     "name": "stdout",
     "output_type": "stream",
     "text": [
      "99% Confidence Interval using t-distribution: (1.0901973384384906, 1.3871359948948425)\n"
     ]
    }
   ],
   "source": [
    "#result\n",
    "\n",
    "print(f\"99% Confidence Interval using t-distribution: {ci_t}\")"
   ]
  },
  {
   "cell_type": "code",
   "execution_count": null,
   "id": "9af78425-c2e8-4e50-8177-d57276574bb4",
   "metadata": {},
   "outputs": [],
   "source": []
  },
  {
   "cell_type": "markdown",
   "id": "9f21c1d7-72c3-4f20-8fd7-2ed444093c37",
   "metadata": {},
   "source": [
    "### b. Build 99% Confidence Interval Using Known Population Standard Deviation"
   ]
  },
  {
   "cell_type": "code",
   "execution_count": 12,
   "id": "60586faa-36bd-488b-9b46-d360b8d1218c",
   "metadata": {},
   "outputs": [],
   "source": [
    "pop_std = 0.2  # Given population standard deviation\n",
    "z_critical = stats.norm.ppf(1 - alpha/2)  # z-score for 99% confidence\n",
    "margin_of_error_z = z_critical * (pop_std / np.sqrt(n))\n",
    "ci_z = (sample_mean - margin_of_error_z, sample_mean + margin_of_error_z)"
   ]
  },
  {
   "cell_type": "code",
   "execution_count": 13,
   "id": "681ea21a-eb3b-44d5-aa70-1da10a81bbc7",
   "metadata": {},
   "outputs": [
    {
     "name": "stdout",
     "output_type": "stream",
     "text": [
      "99% Confidence Interval using Z-distribution: (1.1056514133957607, 1.3716819199375725)\n"
     ]
    }
   ],
   "source": [
    "#result\n",
    "\n",
    "print(f\"99% Confidence Interval using Z-distribution: {ci_z}\")"
   ]
  },
  {
   "cell_type": "code",
   "execution_count": null,
   "id": "becd7ddf-cbdc-4e57-8656-5793c7a05969",
   "metadata": {},
   "outputs": [],
   "source": []
  }
 ],
 "metadata": {
  "kernelspec": {
   "display_name": "Python 3 (ipykernel)",
   "language": "python",
   "name": "python3"
  },
  "language_info": {
   "codemirror_mode": {
    "name": "ipython",
    "version": 3
   },
   "file_extension": ".py",
   "mimetype": "text/x-python",
   "name": "python",
   "nbconvert_exporter": "python",
   "pygments_lexer": "ipython3",
   "version": "3.12.7"
  }
 },
 "nbformat": 4,
 "nbformat_minor": 5
}
