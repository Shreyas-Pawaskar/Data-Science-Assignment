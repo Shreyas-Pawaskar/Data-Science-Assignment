{
 "cells": [
  {
   "cell_type": "markdown",
   "id": "55764fdd-96b8-4230-a6f1-9b2308fd9acd",
   "metadata": {},
   "source": [
    "### 1. State the Hypotheses\n",
    "\n",
    "- Null Hypothesis (\n",
    "𝐻\n",
    "0\n",
    "​\n",
    " ): There is no association between the type of device and customer satisfaction level.\n",
    "- Alternative Hypothesis (\n",
    "𝐻\n",
    "1\n",
    "​\n",
    " ): There is a significant association between the type of device and customer satisfaction level"
   ]
  },
  {
   "cell_type": "code",
   "execution_count": null,
   "id": "59e7e3be-65f4-4916-b28e-f8db7aa8d18d",
   "metadata": {},
   "outputs": [],
   "source": []
  },
  {
   "cell_type": "markdown",
   "id": "3a781fa1-ab96-48c1-84a5-86634dabea71",
   "metadata": {},
   "source": [
    "### 2. Compute the Chi-Square Statistic\n",
    "\n",
    "The Formula used:\n",
    "                $$\n",
    "\\chi^2 = \\sum \\frac{(O - E)^2}{E}\n",
    "$$\n",
    "\n",
    "Where:  \n",
    "- \\( O \\) = Observed outcome\n",
    "- \\( E \\) = Expected outcome"
   ]
  },
  {
   "cell_type": "code",
   "execution_count": null,
   "id": "2a761f76-5fd7-403d-b6df-cbfb9884d214",
   "metadata": {},
   "outputs": [],
   "source": []
  },
  {
   "cell_type": "markdown",
   "id": "0795f8c3-e6ed-4356-8428-1136e28303b3",
   "metadata": {},
   "source": [
    "### 3. Determine the Critical Value"
   ]
  },
  {
   "cell_type": "code",
   "execution_count": 2,
   "id": "8dd523ea-a515-4664-84c6-2956a93b380a",
   "metadata": {},
   "outputs": [
    {
     "name": "stdout",
     "output_type": "stream",
     "text": [
      "  Satisfaction Level  Smart Thermostat  Smart Light  Total\n",
      "0     Very Satisfied                50           70    120\n",
      "1          Satisfied                80          100    180\n",
      "2            Neutral                60           90    150\n",
      "3        Unsatisfied                30           50     80\n",
      "4   Very Unsatisfied                20           50     70\n"
     ]
    }
   ],
   "source": [
    "# data provided\n",
    "\n",
    "import pandas as pd\n",
    "\n",
    "# Creating the DataFrame\n",
    "provideddata = {\n",
    "    \"Satisfaction Level\": [\"Very Satisfied\", \"Satisfied\", \"Neutral\", \"Unsatisfied\", \"Very Unsatisfied\"],\n",
    "    \"Smart Thermostat\": [50, 80, 60, 30, 20],\n",
    "    \"Smart Light\": [70, 100, 90, 50, 50],\n",
    "    \"Total\": [120, 180, 150, 80, 70]\n",
    "}\n",
    "\n",
    "df = pd.DataFrame(provideddata)\n",
    "\n",
    "# Display the DataFrame\n",
    "print(df)"
   ]
  },
  {
   "cell_type": "code",
   "execution_count": 3,
   "id": "682b5857-3f56-4e36-9e07-07cebd3a990a",
   "metadata": {},
   "outputs": [
    {
     "data": {
      "text/plain": [
       "(5, 4)"
      ]
     },
     "execution_count": 3,
     "metadata": {},
     "output_type": "execute_result"
    }
   ],
   "source": [
    "df.shape"
   ]
  },
  {
   "cell_type": "code",
   "execution_count": 4,
   "id": "5112d13e-28a8-46bc-baf6-2b87c40c835b",
   "metadata": {},
   "outputs": [
    {
     "name": "stdout",
     "output_type": "stream",
     "text": [
      "<class 'pandas.core.frame.DataFrame'>\n",
      "RangeIndex: 5 entries, 0 to 4\n",
      "Data columns (total 4 columns):\n",
      " #   Column              Non-Null Count  Dtype \n",
      "---  ------              --------------  ----- \n",
      " 0   Satisfaction Level  5 non-null      object\n",
      " 1   Smart Thermostat    5 non-null      int64 \n",
      " 2   Smart Light         5 non-null      int64 \n",
      " 3   Total               5 non-null      int64 \n",
      "dtypes: int64(3), object(1)\n",
      "memory usage: 292.0+ bytes\n"
     ]
    }
   ],
   "source": [
    "df.info()"
   ]
  },
  {
   "cell_type": "code",
   "execution_count": 5,
   "id": "4071590a-8d86-4ef5-b26d-b674729228cd",
   "metadata": {},
   "outputs": [
    {
     "data": {
      "text/html": [
       "<div>\n",
       "<style scoped>\n",
       "    .dataframe tbody tr th:only-of-type {\n",
       "        vertical-align: middle;\n",
       "    }\n",
       "\n",
       "    .dataframe tbody tr th {\n",
       "        vertical-align: top;\n",
       "    }\n",
       "\n",
       "    .dataframe thead th {\n",
       "        text-align: right;\n",
       "    }\n",
       "</style>\n",
       "<table border=\"1\" class=\"dataframe\">\n",
       "  <thead>\n",
       "    <tr style=\"text-align: right;\">\n",
       "      <th></th>\n",
       "      <th>Smart Thermostat</th>\n",
       "      <th>Smart Light</th>\n",
       "      <th>Total</th>\n",
       "    </tr>\n",
       "  </thead>\n",
       "  <tbody>\n",
       "    <tr>\n",
       "      <th>count</th>\n",
       "      <td>5.000000</td>\n",
       "      <td>5.000000</td>\n",
       "      <td>5.000000</td>\n",
       "    </tr>\n",
       "    <tr>\n",
       "      <th>mean</th>\n",
       "      <td>48.000000</td>\n",
       "      <td>72.000000</td>\n",
       "      <td>120.000000</td>\n",
       "    </tr>\n",
       "    <tr>\n",
       "      <th>std</th>\n",
       "      <td>23.874673</td>\n",
       "      <td>22.803509</td>\n",
       "      <td>46.368092</td>\n",
       "    </tr>\n",
       "    <tr>\n",
       "      <th>min</th>\n",
       "      <td>20.000000</td>\n",
       "      <td>50.000000</td>\n",
       "      <td>70.000000</td>\n",
       "    </tr>\n",
       "    <tr>\n",
       "      <th>25%</th>\n",
       "      <td>30.000000</td>\n",
       "      <td>50.000000</td>\n",
       "      <td>80.000000</td>\n",
       "    </tr>\n",
       "    <tr>\n",
       "      <th>50%</th>\n",
       "      <td>50.000000</td>\n",
       "      <td>70.000000</td>\n",
       "      <td>120.000000</td>\n",
       "    </tr>\n",
       "    <tr>\n",
       "      <th>75%</th>\n",
       "      <td>60.000000</td>\n",
       "      <td>90.000000</td>\n",
       "      <td>150.000000</td>\n",
       "    </tr>\n",
       "    <tr>\n",
       "      <th>max</th>\n",
       "      <td>80.000000</td>\n",
       "      <td>100.000000</td>\n",
       "      <td>180.000000</td>\n",
       "    </tr>\n",
       "  </tbody>\n",
       "</table>\n",
       "</div>"
      ],
      "text/plain": [
       "       Smart Thermostat  Smart Light       Total\n",
       "count          5.000000     5.000000    5.000000\n",
       "mean          48.000000    72.000000  120.000000\n",
       "std           23.874673    22.803509   46.368092\n",
       "min           20.000000    50.000000   70.000000\n",
       "25%           30.000000    50.000000   80.000000\n",
       "50%           50.000000    70.000000  120.000000\n",
       "75%           60.000000    90.000000  150.000000\n",
       "max           80.000000   100.000000  180.000000"
      ]
     },
     "execution_count": 5,
     "metadata": {},
     "output_type": "execute_result"
    }
   ],
   "source": [
    "df.describe()"
   ]
  },
  {
   "cell_type": "code",
   "execution_count": 6,
   "id": "f66e7010-e225-4087-a887-94699eaebf29",
   "metadata": {},
   "outputs": [
    {
     "data": {
      "text/plain": [
       "Satisfaction Level    0\n",
       "Smart Thermostat      0\n",
       "Smart Light           0\n",
       "Total                 0\n",
       "dtype: int64"
      ]
     },
     "execution_count": 6,
     "metadata": {},
     "output_type": "execute_result"
    }
   ],
   "source": [
    "df.isnull().sum()"
   ]
  },
  {
   "cell_type": "code",
   "execution_count": 7,
   "id": "3c348be8-cfd0-4888-9ca3-4fb179b4b595",
   "metadata": {},
   "outputs": [
    {
     "name": "stdout",
     "output_type": "stream",
     "text": [
      "                  Smart Thermostat  Smart Light     Total\n",
      "Smart Thermostat          1.000000     0.973502  0.993656\n",
      "Smart Light               0.973502     1.000000  0.993044\n",
      "Total                     0.993656     0.993044  1.000000\n"
     ]
    }
   ],
   "source": [
    "#The correlation matrix\n",
    "z = df.corr(numeric_only=True)\n",
    "print(z)"
   ]
  },
  {
   "cell_type": "code",
   "execution_count": 8,
   "id": "f257a2dd-68a0-46e4-bed8-6e2c92b14249",
   "metadata": {},
   "outputs": [
    {
     "data": {
      "text/plain": [
       "<Axes: >"
      ]
     },
     "execution_count": 8,
     "metadata": {},
     "output_type": "execute_result"
    },
    {
     "data": {
      "image/png": "[encoded data removed]",
      "text/plain": [
       "<Figure size 640x480 with 2 Axes>"
      ]
     },
     "metadata": {},
     "output_type": "display_data"
    }
   ],
   "source": [
    "#Heatmap\n",
    "\n",
    "import seaborn as sns\n",
    "\n",
    "sns.heatmap(z, annot=True)"
   ]
  },
  {
   "cell_type": "code",
   "execution_count": null,
   "id": "f6404645-4dd5-4a17-9fb3-31a4afe2bdc0",
   "metadata": {},
   "outputs": [],
   "source": []
  },
  {
   "cell_type": "code",
   "execution_count": 9,
   "id": "ec4dcdad-2ade-4c7c-ba14-fc32644e4eb4",
   "metadata": {},
   "outputs": [
    {
     "data": {
      "text/plain": [
       "Index(['Satisfaction Level', 'Smart Thermostat', 'Smart Light', 'Total'], dtype='object')"
      ]
     },
     "execution_count": 9,
     "metadata": {},
     "output_type": "execute_result"
    }
   ],
   "source": [
    "df.columns"
   ]
  },
  {
   "cell_type": "code",
   "execution_count": 13,
   "id": "504f47ab-adf9-4fa4-83ff-2a9a4498039a",
   "metadata": {},
   "outputs": [
    {
     "name": "stdout",
     "output_type": "stream",
     "text": [
      "Smart Light       50   70   90   100\n",
      "Smart Thermostat                    \n",
      "20                  1    0    0    0\n",
      "30                  1    0    0    0\n",
      "50                  0    1    0    0\n",
      "60                  0    0    1    0\n",
      "80                  0    0    0    1\n"
     ]
    }
   ],
   "source": [
    "# Creating a Cross Table\n",
    "\n",
    "cross_table = pd.crosstab(df['Smart Thermostat'], df['Smart Light'])\n",
    "print(cross_table)"
   ]
  },
  {
   "cell_type": "code",
   "execution_count": 14,
   "id": "292c4f7e-4089-4302-8c4e-43ea51e4a072",
   "metadata": {},
   "outputs": [
    {
     "name": "stdout",
     "output_type": "stream",
     "text": [
      "[[1 0 0 0]\n",
      " [1 0 0 0]\n",
      " [0 1 0 0]\n",
      " [0 0 1 0]\n",
      " [0 0 0 1]]\n"
     ]
    }
   ],
   "source": [
    "# Finding Observed outcome:\n",
    "\n",
    "obs_value = cross_table.values\n",
    "print(obs_value)"
   ]
  },
  {
   "cell_type": "code",
   "execution_count": null,
   "id": "f43ba024-b587-4434-afda-807d7c68a526",
   "metadata": {},
   "outputs": [],
   "source": []
  },
  {
   "cell_type": "code",
   "execution_count": 15,
   "id": "5244778e-c64e-48c5-b8ab-db2a0f39277a",
   "metadata": {},
   "outputs": [],
   "source": [
    "# chi-square contigency table\n",
    "\n",
    "import scipy.stats as stats \n",
    "from scipy.stats import chi2_contingency"
   ]
  },
  {
   "cell_type": "code",
   "execution_count": 16,
   "id": "5bd6ea02-910d-4309-84cd-075f4f49db3c",
   "metadata": {},
   "outputs": [
    {
     "name": "stdout",
     "output_type": "stream",
     "text": [
      "Chi2ContingencyResult(statistic=15.000000000000002, pvalue=0.24143645097027544, dof=12, expected_freq=array([[0.4, 0.2, 0.2, 0.2],\n",
      "       [0.4, 0.2, 0.2, 0.2],\n",
      "       [0.4, 0.2, 0.2, 0.2],\n",
      "       [0.4, 0.2, 0.2, 0.2],\n",
      "       [0.4, 0.2, 0.2, 0.2]]))\n"
     ]
    }
   ],
   "source": [
    "val = stats.chi2_contingency(cross_table)\n",
    "print(val)"
   ]
  },
  {
   "cell_type": "code",
   "execution_count": null,
   "id": "5668c118-bb67-414a-917a-31a0bc5ec4ff",
   "metadata": {},
   "outputs": [],
   "source": []
  },
  {
   "cell_type": "code",
   "execution_count": 17,
   "id": "628532f8-2ef2-4b3a-97f8-afc573551512",
   "metadata": {},
   "outputs": [
    {
     "name": "stdout",
     "output_type": "stream",
     "text": [
      "[[0.4 0.2 0.2 0.2]\n",
      " [0.4 0.2 0.2 0.2]\n",
      " [0.4 0.2 0.2 0.2]\n",
      " [0.4 0.2 0.2 0.2]\n",
      " [0.4 0.2 0.2 0.2]]\n"
     ]
    }
   ],
   "source": [
    "# Finding Expected outcome:\n",
    "\n",
    "expt_value = val[3]\n",
    "print(expt_value)"
   ]
  },
  {
   "cell_type": "code",
   "execution_count": null,
   "id": "f7653f45-0325-4c4a-93d4-68be756dc5b9",
   "metadata": {},
   "outputs": [],
   "source": []
  },
  {
   "cell_type": "code",
   "execution_count": 23,
   "id": "dd31d533-03f4-4850-bb4f-8f74b9caced7",
   "metadata": {},
   "outputs": [
    {
     "name": "stdout",
     "output_type": "stream",
     "text": [
      "5\n",
      "4\n"
     ]
    }
   ],
   "source": [
    "# Degrees Of Freedom\n",
    "\n",
    "no_of_rows = len(cross_table.iloc[:,0])\n",
    "no_of_cols = len(cross_table.iloc[0,:])\n",
    "print(no_of_rows)\n",
    "print(no_of_cols)"
   ]
  },
  {
   "cell_type": "code",
   "execution_count": 24,
   "id": "cd7e252c-4e4c-4e54-8481-0b29736c55a5",
   "metadata": {},
   "outputs": [
    {
     "name": "stdout",
     "output_type": "stream",
     "text": [
      "Degrees Of Freedom :  12\n"
     ]
    }
   ],
   "source": [
    "ddof = (no_of_rows - 1) * (no_of_cols - 1)\n",
    "print(\"Degrees Of Freedom : \",ddof)"
   ]
  },
  {
   "cell_type": "code",
   "execution_count": null,
   "id": "c289a101-9a92-458b-b4cd-95b5bcb27e4f",
   "metadata": {},
   "outputs": [],
   "source": []
  },
  {
   "cell_type": "code",
   "execution_count": 27,
   "id": "7af89060-0529-4bee-b003-57194d8ba61d",
   "metadata": {},
   "outputs": [],
   "source": [
    "# calculate the chi value\n",
    "\n",
    "from scipy.stats import chi2\n",
    "\n",
    "chi_square = sum([(o-e) ** 2./e for o,e in zip(obs_value, expt_value)])"
   ]
  },
  {
   "cell_type": "code",
   "execution_count": 28,
   "id": "261b2477-171e-4f28-908e-af40dc51c28f",
   "metadata": {},
   "outputs": [
    {
     "name": "stdout",
     "output_type": "stream",
     "text": [
      "Chi-Square :  [3. 4. 4. 4.]\n"
     ]
    }
   ],
   "source": [
    "print(\"Chi-Square : \", chi_square)"
   ]
  },
  {
   "cell_type": "code",
   "execution_count": 31,
   "id": "d9bab80a-acff-4354-842c-776dc3297080",
   "metadata": {},
   "outputs": [
    {
     "name": "stdout",
     "output_type": "stream",
     "text": [
      "Chi-Square Statistic :  15.0\n"
     ]
    }
   ],
   "source": [
    "chi_square_statistic = chi_square[0]+chi_square[1]+chi_square[2]+chi_square[3]\n",
    "print(\"Chi-Square Statistic : \",chi_square_statistic)"
   ]
  },
  {
   "cell_type": "code",
   "execution_count": 33,
   "id": "e3a0dd25-bf5e-41f0-b471-5d61e6693124",
   "metadata": {},
   "outputs": [
    {
     "name": "stdout",
     "output_type": "stream",
     "text": [
      "Critical Value :  21.02606981748307\n"
     ]
    }
   ],
   "source": [
    "# FINDING Critical Value:\n",
    "alpha = 0.05\n",
    "critical_value = chi2.ppf(q = 1 - alpha, df = ddof)\n",
    "print(\"Critical Value : \",critical_value)"
   ]
  },
  {
   "cell_type": "code",
   "execution_count": null,
   "id": "d86d98b6-b71b-45ff-81fc-da28dd1437fc",
   "metadata": {},
   "outputs": [],
   "source": []
  },
  {
   "cell_type": "markdown",
   "id": "cb085728-be72-42c6-8b48-706e6a764eef",
   "metadata": {},
   "source": [
    "### 4. Make a Decision"
   ]
  },
  {
   "cell_type": "code",
   "execution_count": 34,
   "id": "b5b79731-e395-4287-aec0-50a141004098",
   "metadata": {},
   "outputs": [
    {
     "name": "stdout",
     "output_type": "stream",
     "text": [
      "Fail to reject the null hypothesis: There is a significant association between the type of device and customer satisfaction level\n"
     ]
    }
   ],
   "source": [
    "if chi_square_statistic >= critical_value:\n",
    "    decision = \"Reject the null hypothesis: There is no association between the type of device and customer satisfaction level.\"\n",
    "else:\n",
    "    decision = \"Fail to reject the null hypothesis: There is a significant association between the type of device and customer satisfaction level\"\n",
    "    \n",
    "print(decision)"
   ]
  },
  {
   "cell_type": "code",
   "execution_count": null,
   "id": "44c1e79e-0829-4d60-aee7-e05885df34b0",
   "metadata": {},
   "outputs": [],
   "source": []
  },
  {
   "cell_type": "code",
   "execution_count": 35,
   "id": "c8ce7b4f-1b83-4c09-ab91-454f54ba474a",
   "metadata": {},
   "outputs": [
    {
     "name": "stdout",
     "output_type": "stream",
     "text": [
      "P-Value 0.7585635490297246\n"
     ]
    }
   ],
   "source": [
    "# Also finding the P-value:\n",
    "p_value = chi2.cdf(x=chi_square_statistic, df = ddof)\n",
    "print(\"P-Value\", p_value)"
   ]
  },
  {
   "cell_type": "code",
   "execution_count": null,
   "id": "9ade5de6-ac43-4c27-a218-259feb5b6f39",
   "metadata": {},
   "outputs": [],
   "source": []
  },
  {
   "cell_type": "markdown",
   "id": "af4509eb-d19e-448b-aedf-c69dfa779444",
   "metadata": {},
   "source": [
    "### 5. Conclusion"
   ]
  },
  {
   "cell_type": "code",
   "execution_count": 42,
   "id": "7da477b8-6cbb-4eab-9e64-dee10e74de81",
   "metadata": {},
   "outputs": [
    {
     "name": "stdout",
     "output_type": "stream",
     "text": [
      "Chi-Square Test Results:\n",
      "-----------------------------\n",
      "Chi-Square Statistic: 15.0000\n",
      "Degrees of Freedom: 12\n",
      "Critical Value: 21.0261\n",
      "P-Value: 0.7586\n",
      "Decision: Fail to reject the null hypothesis: There is a significant association between the type of device and customer satisfaction level\n"
     ]
    }
   ],
   "source": [
    "print(\"Chi-Square Test Results:\")\n",
    "print(\"-----------------------------\")\n",
    "print(f\"Chi-Square Statistic: {chi_square_statistic:.4f}\")\n",
    "print(f\"Degrees of Freedom: {ddof}\")\n",
    "print(f\"Critical Value: {critical_value:.4f}\")\n",
    "print(f\"P-Value: {p_value:.4f}\")\n",
    "print(f\"Decision: {decision}\")"
   ]
  },
  {
   "cell_type": "code",
   "execution_count": null,
   "id": "733ce509-b0c5-4baf-a068-1bbae758f616",
   "metadata": {},
   "outputs": [],
   "source": []
  }
 ],
 "metadata": {
  "kernelspec": {
   "display_name": "Python 3 (ipykernel)",
   "language": "python",
   "name": "python3"
  },
  "language_info": {
   "codemirror_mode": {
    "name": "ipython",
    "version": 3
   },
   "file_extension": ".py",
   "mimetype": "text/x-python",
   "name": "python",
   "nbconvert_exporter": "python",
   "pygments_lexer": "ipython3",
   "version": "3.12.7"
  }
 },
 "nbformat": 4,
 "nbformat_minor": 5
}
