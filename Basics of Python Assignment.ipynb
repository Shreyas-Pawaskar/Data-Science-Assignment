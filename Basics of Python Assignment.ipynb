{
 "cells": [
  {
   "cell_type": "markdown",
   "id": "3e8031d0-2a5c-472b-b565-f93828854bb3",
   "metadata": {},
   "source": [
    "# Exercise 1: Prime Numbers\n",
    "\n",
    "### Write a Python program that checks whether a given number is prime or not. A prime number is a natural number greater than 1 that has no positive divisors other than 1 and itself."
   ]
  },
  {
   "cell_type": "code",
   "execution_count": 5,
   "id": "655884bf-468d-43cb-a33d-276870520280",
   "metadata": {},
   "outputs": [
    {
     "name": "stdin",
     "output_type": "stream",
     "text": [
      "Enter the number :  29\n"
     ]
    },
    {
     "name": "stdout",
     "output_type": "stream",
     "text": [
      "29 is a Prime Number\n"
     ]
    }
   ],
   "source": [
    "def is_prime(number):\n",
    "    if number <= 1:\n",
    "        return False\n",
    "    for i in range(2, int(number ** 0.5) + 1):\n",
    "        if number % i == 0:\n",
    "            return False\n",
    "    return True\n",
    "\n",
    "num = int(input(\"Enter the number : \"))\n",
    "\n",
    "if is_prime(num):\n",
    "          print(f\"{num} is a Prime Number\")\n",
    "else:\n",
    "          print(f\"{num} is Not a Prime Number\")"
   ]
  },
  {
   "cell_type": "markdown",
   "id": "b8f1dd11-2b6c-4872-988b-2820a30c29b9",
   "metadata": {},
   "source": []
  },
  {
   "cell_type": "markdown",
   "id": "b6df4f84-0f20-4d7f-8c62-e0011ff32e14",
   "metadata": {},
   "source": [
    "# Exercise 2: Product of Random Numbers\n",
    "\n",
    "### Develop a Python program that generates two random numbers and asks the user to enter the product of these numbers. The program should then check if the user's answer is correct and display an appropriate message"
   ]
  },
  {
   "cell_type": "code",
   "execution_count": 8,
   "id": "f926e176-0818-44c8-b177-4e3340a76a1a",
   "metadata": {},
   "outputs": [
    {
     "name": "stdout",
     "output_type": "stream",
     "text": [
      "What is 7 x 2 ?\n"
     ]
    },
    {
     "name": "stdin",
     "output_type": "stream",
     "text": [
      "Your Answer 13\n"
     ]
    },
    {
     "name": "stdout",
     "output_type": "stream",
     "text": [
      "Wrong Answer !!\n"
     ]
    }
   ],
   "source": [
    "import random\n",
    "\n",
    "def product_random():\n",
    "    num1 = random.randint(1, 10)\n",
    "    num2 = random.randint(1, 10)\n",
    "\n",
    "    right_answer = num1 * num2\n",
    "\n",
    "    print(f\"What is {num1} x {num2} ?\")\n",
    "    answer = int(input(\"Your Answer\"))\n",
    "\n",
    "    if answer == right_answer:\n",
    "        print(\"Right Answer !!\")\n",
    "    else:\n",
    "        print(\"Wrong Answer !!\")\n",
    "\n",
    "product_random()"
   ]
  },
  {
   "cell_type": "code",
   "execution_count": null,
   "id": "31cdb607-64e5-423c-a1d8-46e70af879ff",
   "metadata": {},
   "outputs": [],
   "source": []
  },
  {
   "cell_type": "markdown",
   "id": "2695669e-8826-4c8f-867a-2b2fce62c25d",
   "metadata": {},
   "source": [
    "# Exercise 3: Squares of Even/Odd Numbers\n",
    "\n",
    "### Create a Python script that prints the squares of all even or odd numbers within the range of 100 to 200. Choose either even or odd numbers and document your choice in the code"
   ]
  },
  {
   "cell_type": "code",
   "execution_count": 11,
   "id": "72acb158-c6c9-480c-9313-51f932d1308c",
   "metadata": {},
   "outputs": [
    {
     "name": "stdout",
     "output_type": "stream",
     "text": [
      "Square of Odd Numbers From 100 to 200 \n",
      "101 ^ 2 = 10201\n",
      "103 ^ 2 = 10609\n",
      "105 ^ 2 = 11025\n",
      "107 ^ 2 = 11449\n",
      "109 ^ 2 = 11881\n",
      "111 ^ 2 = 12321\n",
      "113 ^ 2 = 12769\n",
      "115 ^ 2 = 13225\n",
      "117 ^ 2 = 13689\n",
      "119 ^ 2 = 14161\n",
      "121 ^ 2 = 14641\n",
      "123 ^ 2 = 15129\n",
      "125 ^ 2 = 15625\n",
      "127 ^ 2 = 16129\n",
      "129 ^ 2 = 16641\n",
      "131 ^ 2 = 17161\n",
      "133 ^ 2 = 17689\n",
      "135 ^ 2 = 18225\n",
      "137 ^ 2 = 18769\n",
      "139 ^ 2 = 19321\n",
      "141 ^ 2 = 19881\n",
      "143 ^ 2 = 20449\n",
      "145 ^ 2 = 21025\n",
      "147 ^ 2 = 21609\n",
      "149 ^ 2 = 22201\n",
      "151 ^ 2 = 22801\n",
      "153 ^ 2 = 23409\n",
      "155 ^ 2 = 24025\n",
      "157 ^ 2 = 24649\n",
      "159 ^ 2 = 25281\n",
      "161 ^ 2 = 25921\n",
      "163 ^ 2 = 26569\n",
      "165 ^ 2 = 27225\n",
      "167 ^ 2 = 27889\n",
      "169 ^ 2 = 28561\n",
      "171 ^ 2 = 29241\n",
      "173 ^ 2 = 29929\n",
      "175 ^ 2 = 30625\n",
      "177 ^ 2 = 31329\n",
      "179 ^ 2 = 32041\n",
      "181 ^ 2 = 32761\n",
      "183 ^ 2 = 33489\n",
      "185 ^ 2 = 34225\n",
      "187 ^ 2 = 34969\n",
      "189 ^ 2 = 35721\n",
      "191 ^ 2 = 36481\n",
      "193 ^ 2 = 37249\n",
      "195 ^ 2 = 38025\n",
      "197 ^ 2 = 38809\n",
      "199 ^ 2 = 39601\n"
     ]
    }
   ],
   "source": [
    "# Choice: Odd numbers are selected for this program.\n",
    "\n",
    "def squares_odd():\n",
    "    print(\"Square of Odd Numbers From 100 to 200 \")\n",
    "    for i in range(100, 201):\n",
    "        if i % 2 != 0:\n",
    "            print(f\"{i} ^ 2 = {i ** 2}\")\n",
    "squares_odd()"
   ]
  },
  {
   "cell_type": "code",
   "execution_count": null,
   "id": "ffebb255-6a8a-4836-bf7e-322fd4151898",
   "metadata": {},
   "outputs": [],
   "source": []
  },
  {
   "cell_type": "markdown",
   "id": "b9493d9b-4d06-4a17-b0ca-daec2a38e85e",
   "metadata": {},
   "source": [
    "# Exercise 4: Word counter\n",
    "\n",
    "### write a program to count the number of words in a given text."
   ]
  },
  {
   "cell_type": "code",
   "execution_count": 13,
   "id": "5faaf89a-2325-44e1-9cda-3deaa7ffd31d",
   "metadata": {},
   "outputs": [
    {
     "name": "stdin",
     "output_type": "stream",
     "text": [
      "Enter the Text This is a sample text. This text will be used to demonstrate the word counter\n"
     ]
    },
    {
     "name": "stdout",
     "output_type": "stream",
     "text": [
      "This : 2 \n",
      "is : 1 \n",
      "a : 1 \n",
      "sample : 1 \n",
      "text. : 1 \n",
      "text : 1 \n",
      "will : 1 \n",
      "be : 1 \n",
      "used : 1 \n",
      "to : 1 \n",
      "demonstrate : 1 \n",
      "the : 1 \n",
      "word : 1 \n",
      "counter : 1 \n"
     ]
    }
   ],
   "source": [
    "from collections import Counter\n",
    "\n",
    "def word_count(input_text):\n",
    "\n",
    "    words = input_text.split()\n",
    "    word_count = Counter(words)\n",
    "\n",
    "    for word, count in word_count.items():\n",
    "        print(f\"{word} : {count} \")\n",
    "\n",
    "text = input(\"Enter the Text\")\n",
    "\n",
    "word_count(text)"
   ]
  },
  {
   "cell_type": "code",
   "execution_count": null,
   "id": "d42017ac-214b-4dd9-bdfd-f22aad35b916",
   "metadata": {},
   "outputs": [],
   "source": []
  },
  {
   "cell_type": "markdown",
   "id": "3d09cc62-65e1-4a4d-8bb9-4a23d020936c",
   "metadata": {},
   "source": [
    "# Exercise 5: Check for Palindrome\n",
    "\n",
    "### Write a Python function called is_palindrome that takes a string as input and returns True if the string is a palindrome, and False otherwise. A palindrome is a word, phrase, number, or other sequence of characters that reads the same forward and backward, ignoring spaces, punctuation, and capitalization"
   ]
  },
  {
   "cell_type": "code",
   "execution_count": 17,
   "id": "dd58a43f-119a-4172-b9f2-ebbc62d197d9",
   "metadata": {},
   "outputs": [
    {
     "name": "stdout",
     "output_type": "stream",
     "text": [
      "True\n",
      "False\n"
     ]
    }
   ],
   "source": [
    "def is_palindrome(input_text):\n",
    "    text = ''.join(char.lower() for char in input_text if char.isalnum())\n",
    "    return text == text[::-1]\n",
    "\n",
    "print(is_palindrome(\"Racecar\"))\n",
    "print(is_palindrome(\"Hello\"))"
   ]
  },
  {
   "cell_type": "code",
   "execution_count": null,
   "id": "3fd5cb53-efb8-4b54-b060-28332f711150",
   "metadata": {},
   "outputs": [],
   "source": []
  }
 ],
 "metadata": {
  "kernelspec": {
   "display_name": "Python 3 (ipykernel)",
   "language": "python",
   "name": "python3"
  },
  "language_info": {
   "codemirror_mode": {
    "name": "ipython",
    "version": 3
   },
   "file_extension": ".py",
   "mimetype": "text/x-python",
   "name": "python",
   "nbconvert_exporter": "python",
   "pygments_lexer": "ipython3",
   "version": "3.12.7"
  }
 },
 "nbformat": 4,
 "nbformat_minor": 5
}
