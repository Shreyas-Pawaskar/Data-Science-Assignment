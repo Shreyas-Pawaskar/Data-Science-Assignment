{
 "cells": [
  {
   "cell_type": "markdown",
   "id": "f79e9727-c3a2-467c-9d47-284efb554838",
   "metadata": {},
   "source": [
    "# Association Rules:"
   ]
  },
  {
   "cell_type": "code",
   "execution_count": 30,
   "id": "b530bd9d-96c3-4b6c-aa40-2a7dc09d0ba4",
   "metadata": {},
   "outputs": [
    {
     "data": {
      "text/plain": [
       "['Sheet1']"
      ]
     },
     "execution_count": 30,
     "metadata": {},
     "output_type": "execute_result"
    }
   ],
   "source": [
    "# Load the dataset\n",
    "\n",
    "import pandas as pd\n",
    "\n",
    "file_path = r\"C:\\Users\\SHREYAS\\Desktop\\Online retail.xlsx\"\n",
    "xls = pd.ExcelFile(file_path)\n",
    "\n",
    "xls.sheet_names"
   ]
  },
  {
   "cell_type": "code",
   "execution_count": 3,
   "id": "edec85ff-cf5d-49f8-8941-8024484f3ed6",
   "metadata": {},
   "outputs": [],
   "source": [
    "df = pd.read_excel(xls, sheet_name=\"Sheet1\")"
   ]
  },
  {
   "cell_type": "code",
   "execution_count": 4,
   "id": "c0d2eaf9-6623-49e3-afcc-4a0e24c00908",
   "metadata": {},
   "outputs": [
    {
     "data": {
      "text/html": [
       "<div>\n",
       "<style scoped>\n",
       "    .dataframe tbody tr th:only-of-type {\n",
       "        vertical-align: middle;\n",
       "    }\n",
       "\n",
       "    .dataframe tbody tr th {\n",
       "        vertical-align: top;\n",
       "    }\n",
       "\n",
       "    .dataframe thead th {\n",
       "        text-align: right;\n",
       "    }\n",
       "</style>\n",
       "<table border=\"1\" class=\"dataframe\">\n",
       "  <thead>\n",
       "    <tr style=\"text-align: right;\">\n",
       "      <th></th>\n",
       "      <th>shrimp,almonds,avocado,vegetables mix,green grapes,whole weat flour,yams,cottage cheese,energy drink,tomato juice,low fat yogurt,green tea,honey,salad,mineral water,salmon,antioxydant juice,frozen smoothie,spinach,olive oil</th>\n",
       "    </tr>\n",
       "  </thead>\n",
       "  <tbody>\n",
       "    <tr>\n",
       "      <th>0</th>\n",
       "      <td>burgers,meatballs,eggs</td>\n",
       "    </tr>\n",
       "    <tr>\n",
       "      <th>1</th>\n",
       "      <td>chutney</td>\n",
       "    </tr>\n",
       "    <tr>\n",
       "      <th>2</th>\n",
       "      <td>turkey,avocado</td>\n",
       "    </tr>\n",
       "    <tr>\n",
       "      <th>3</th>\n",
       "      <td>mineral water,milk,energy bar,whole wheat rice...</td>\n",
       "    </tr>\n",
       "    <tr>\n",
       "      <th>4</th>\n",
       "      <td>low fat yogurt</td>\n",
       "    </tr>\n",
       "  </tbody>\n",
       "</table>\n",
       "</div>"
      ],
      "text/plain": [
       "  shrimp,almonds,avocado,vegetables mix,green grapes,whole weat flour,yams,cottage cheese,energy drink,tomato juice,low fat yogurt,green tea,honey,salad,mineral water,salmon,antioxydant juice,frozen smoothie,spinach,olive oil\n",
       "0                             burgers,meatballs,eggs                                                                                                                                                                             \n",
       "1                                            chutney                                                                                                                                                                             \n",
       "2                                     turkey,avocado                                                                                                                                                                             \n",
       "3  mineral water,milk,energy bar,whole wheat rice...                                                                                                                                                                             \n",
       "4                                     low fat yogurt                                                                                                                                                                             "
      ]
     },
     "execution_count": 4,
     "metadata": {},
     "output_type": "execute_result"
    }
   ],
   "source": [
    "df.head()"
   ]
  },
  {
   "cell_type": "code",
   "execution_count": 5,
   "id": "c30a0a4d-5f71-4964-a0b0-80f2041a767c",
   "metadata": {},
   "outputs": [
    {
     "data": {
      "text/plain": [
       "(7500, 1)"
      ]
     },
     "execution_count": 5,
     "metadata": {},
     "output_type": "execute_result"
    }
   ],
   "source": [
    "df.shape"
   ]
  },
  {
   "cell_type": "code",
   "execution_count": 28,
   "id": "6fad279b-7c0a-44d3-8278-976fd80aa2b6",
   "metadata": {},
   "outputs": [],
   "source": [
    "# Split the single-column transaction data into a list format\n",
    "\n",
    "transactions = df.iloc[:, 0].dropna().apply(lambda x: x.split(','))"
   ]
  },
  {
   "cell_type": "code",
   "execution_count": 29,
   "id": "7796e94d-c93f-4304-9777-f81fe13f3ea1",
   "metadata": {},
   "outputs": [],
   "source": [
    "#  Convert transactions into a list\n",
    "\n",
    "transactions_list = transactions.tolist()"
   ]
  },
  {
   "cell_type": "code",
   "execution_count": 11,
   "id": "cff8a6e0-d596-4d8f-ac29-0ab0f50f00c4",
   "metadata": {},
   "outputs": [
    {
     "data": {
      "text/plain": [
       "[['burgers', 'meatballs', 'eggs'],\n",
       " ['chutney'],\n",
       " ['turkey', 'avocado'],\n",
       " ['mineral water', 'milk', 'energy bar', 'whole wheat rice', 'green tea'],\n",
       " ['low fat yogurt']]"
      ]
     },
     "execution_count": 11,
     "metadata": {},
     "output_type": "execute_result"
    }
   ],
   "source": [
    "transactions_list[:5]"
   ]
  },
  {
   "cell_type": "code",
   "execution_count": null,
   "id": "57d023f0-1788-44cc-a67e-075dae530c18",
   "metadata": {},
   "outputs": [],
   "source": []
  },
  {
   "cell_type": "code",
   "execution_count": 13,
   "id": "78b241f1-181b-426d-abac-67554f531617",
   "metadata": {},
   "outputs": [
    {
     "name": "stdout",
     "output_type": "stream",
     "text": [
      "Requirement already satisfied: mlxtend in d:\\anaconda\\lib\\site-packages (0.23.4)\n",
      "Requirement already satisfied: scipy>=1.2.1 in d:\\anaconda\\lib\\site-packages (from mlxtend) (1.13.1)\n",
      "Requirement already satisfied: numpy>=1.16.2 in d:\\anaconda\\lib\\site-packages (from mlxtend) (1.26.4)\n",
      "Requirement already satisfied: pandas>=0.24.2 in d:\\anaconda\\lib\\site-packages (from mlxtend) (1.5.3)\n",
      "Requirement already satisfied: scikit-learn>=1.3.1 in d:\\anaconda\\lib\\site-packages (from mlxtend) (1.5.1)\n",
      "Requirement already satisfied: matplotlib>=3.0.0 in d:\\anaconda\\lib\\site-packages (from mlxtend) (3.9.2)\n",
      "Requirement already satisfied: joblib>=0.13.2 in d:\\anaconda\\lib\\site-packages (from mlxtend) (1.4.2)\n",
      "Requirement already satisfied: contourpy>=1.0.1 in d:\\anaconda\\lib\\site-packages (from matplotlib>=3.0.0->mlxtend) (1.2.0)\n",
      "Requirement already satisfied: cycler>=0.10 in d:\\anaconda\\lib\\site-packages (from matplotlib>=3.0.0->mlxtend) (0.11.0)\n",
      "Requirement already satisfied: fonttools>=4.22.0 in d:\\anaconda\\lib\\site-packages (from matplotlib>=3.0.0->mlxtend) (4.51.0)\n",
      "Requirement already satisfied: kiwisolver>=1.3.1 in d:\\anaconda\\lib\\site-packages (from matplotlib>=3.0.0->mlxtend) (1.4.4)\n",
      "Requirement already satisfied: packaging>=20.0 in d:\\anaconda\\lib\\site-packages (from matplotlib>=3.0.0->mlxtend) (24.1)\n",
      "Requirement already satisfied: pillow>=8 in d:\\anaconda\\lib\\site-packages (from matplotlib>=3.0.0->mlxtend) (10.4.0)\n",
      "Requirement already satisfied: pyparsing>=2.3.1 in d:\\anaconda\\lib\\site-packages (from matplotlib>=3.0.0->mlxtend) (3.1.2)\n",
      "Requirement already satisfied: python-dateutil>=2.7 in d:\\anaconda\\lib\\site-packages (from matplotlib>=3.0.0->mlxtend) (2.9.0.post0)\n",
      "Requirement already satisfied: pytz>=2020.1 in d:\\anaconda\\lib\\site-packages (from pandas>=0.24.2->mlxtend) (2024.1)\n",
      "Requirement already satisfied: threadpoolctl>=3.1.0 in d:\\anaconda\\lib\\site-packages (from scikit-learn>=1.3.1->mlxtend) (3.5.0)\n",
      "Requirement already satisfied: six>=1.5 in d:\\anaconda\\lib\\site-packages (from python-dateutil>=2.7->matplotlib>=3.0.0->mlxtend) (1.16.0)\n"
     ]
    }
   ],
   "source": [
    "!pip install mlxtend"
   ]
  },
  {
   "cell_type": "code",
   "execution_count": 12,
   "id": "11c64f6f-a333-45c9-8486-3669cb54f0ef",
   "metadata": {},
   "outputs": [],
   "source": [
    "from mlxtend.preprocessing import TransactionEncoder\n",
    "from mlxtend.frequent_patterns import apriori, association_rules"
   ]
  },
  {
   "cell_type": "code",
   "execution_count": 15,
   "id": "82a67dc9-8158-4cf0-bb16-307e06984082",
   "metadata": {},
   "outputs": [],
   "source": [
    "# one-hot encoding format\n",
    "\n",
    "te = TransactionEncoder()\n",
    "te_ary = te.fit(transactions_list).transform(transactions_list)\n",
    "df_encoded = pd.DataFrame(te_ary, columns=te.columns_)"
   ]
  },
  {
   "cell_type": "code",
   "execution_count": 16,
   "id": "1a6334c7-4935-422e-bff4-79e7e46d04df",
   "metadata": {},
   "outputs": [],
   "source": [
    "# Apply Apriori algorithm \n",
    "\n",
    "frequent_itemsets = apriori(df_encoded, min_support=0.01, use_colnames=True)"
   ]
  },
  {
   "cell_type": "code",
   "execution_count": 17,
   "id": "01d2aea1-8b3c-43a8-843b-bcea2aeff971",
   "metadata": {},
   "outputs": [],
   "source": [
    "rules = association_rules(frequent_itemsets, metric=\"confidence\", min_threshold=0.2)"
   ]
  },
  {
   "cell_type": "code",
   "execution_count": 18,
   "id": "2fca0df7-ec5d-4007-8238-4890433c7724",
   "metadata": {},
   "outputs": [
    {
     "data": {
      "text/html": [
       "<div>\n",
       "<style scoped>\n",
       "    .dataframe tbody tr th:only-of-type {\n",
       "        vertical-align: middle;\n",
       "    }\n",
       "\n",
       "    .dataframe tbody tr th {\n",
       "        vertical-align: top;\n",
       "    }\n",
       "\n",
       "    .dataframe thead th {\n",
       "        text-align: right;\n",
       "    }\n",
       "</style>\n",
       "<table border=\"1\" class=\"dataframe\">\n",
       "  <thead>\n",
       "    <tr style=\"text-align: right;\">\n",
       "      <th></th>\n",
       "      <th>antecedents</th>\n",
       "      <th>consequents</th>\n",
       "      <th>antecedent support</th>\n",
       "      <th>consequent support</th>\n",
       "      <th>support</th>\n",
       "      <th>confidence</th>\n",
       "      <th>lift</th>\n",
       "      <th>representativity</th>\n",
       "      <th>leverage</th>\n",
       "      <th>conviction</th>\n",
       "      <th>zhangs_metric</th>\n",
       "      <th>jaccard</th>\n",
       "      <th>certainty</th>\n",
       "      <th>kulczynski</th>\n",
       "    </tr>\n",
       "  </thead>\n",
       "  <tbody>\n",
       "    <tr>\n",
       "      <th>0</th>\n",
       "      <td>(avocado)</td>\n",
       "      <td>(mineral water)</td>\n",
       "      <td>0.033200</td>\n",
       "      <td>0.238267</td>\n",
       "      <td>0.011467</td>\n",
       "      <td>0.345382</td>\n",
       "      <td>1.449559</td>\n",
       "      <td>1.0</td>\n",
       "      <td>0.003556</td>\n",
       "      <td>1.163629</td>\n",
       "      <td>0.320785</td>\n",
       "      <td>0.044103</td>\n",
       "      <td>0.140620</td>\n",
       "      <td>0.196753</td>\n",
       "    </tr>\n",
       "    <tr>\n",
       "      <th>1</th>\n",
       "      <td>(burgers)</td>\n",
       "      <td>(eggs)</td>\n",
       "      <td>0.087200</td>\n",
       "      <td>0.179733</td>\n",
       "      <td>0.028800</td>\n",
       "      <td>0.330275</td>\n",
       "      <td>1.837585</td>\n",
       "      <td>1.0</td>\n",
       "      <td>0.013127</td>\n",
       "      <td>1.224782</td>\n",
       "      <td>0.499351</td>\n",
       "      <td>0.120941</td>\n",
       "      <td>0.183528</td>\n",
       "      <td>0.245256</td>\n",
       "    </tr>\n",
       "    <tr>\n",
       "      <th>2</th>\n",
       "      <td>(burgers)</td>\n",
       "      <td>(french fries)</td>\n",
       "      <td>0.087200</td>\n",
       "      <td>0.170933</td>\n",
       "      <td>0.022000</td>\n",
       "      <td>0.252294</td>\n",
       "      <td>1.475976</td>\n",
       "      <td>1.0</td>\n",
       "      <td>0.007095</td>\n",
       "      <td>1.108813</td>\n",
       "      <td>0.353289</td>\n",
       "      <td>0.093168</td>\n",
       "      <td>0.098135</td>\n",
       "      <td>0.190499</td>\n",
       "    </tr>\n",
       "    <tr>\n",
       "      <th>3</th>\n",
       "      <td>(burgers)</td>\n",
       "      <td>(green tea)</td>\n",
       "      <td>0.087200</td>\n",
       "      <td>0.132000</td>\n",
       "      <td>0.017467</td>\n",
       "      <td>0.200306</td>\n",
       "      <td>1.517468</td>\n",
       "      <td>1.0</td>\n",
       "      <td>0.005956</td>\n",
       "      <td>1.085415</td>\n",
       "      <td>0.373584</td>\n",
       "      <td>0.086583</td>\n",
       "      <td>0.078693</td>\n",
       "      <td>0.166315</td>\n",
       "    </tr>\n",
       "    <tr>\n",
       "      <th>4</th>\n",
       "      <td>(burgers)</td>\n",
       "      <td>(milk)</td>\n",
       "      <td>0.087200</td>\n",
       "      <td>0.129600</td>\n",
       "      <td>0.017867</td>\n",
       "      <td>0.204893</td>\n",
       "      <td>1.580964</td>\n",
       "      <td>1.0</td>\n",
       "      <td>0.006566</td>\n",
       "      <td>1.094695</td>\n",
       "      <td>0.402580</td>\n",
       "      <td>0.089812</td>\n",
       "      <td>0.086504</td>\n",
       "      <td>0.171377</td>\n",
       "    </tr>\n",
       "    <tr>\n",
       "      <th>5</th>\n",
       "      <td>(burgers)</td>\n",
       "      <td>(mineral water)</td>\n",
       "      <td>0.087200</td>\n",
       "      <td>0.238267</td>\n",
       "      <td>0.024400</td>\n",
       "      <td>0.279817</td>\n",
       "      <td>1.174384</td>\n",
       "      <td>1.0</td>\n",
       "      <td>0.003623</td>\n",
       "      <td>1.057693</td>\n",
       "      <td>0.162675</td>\n",
       "      <td>0.081045</td>\n",
       "      <td>0.054546</td>\n",
       "      <td>0.191111</td>\n",
       "    </tr>\n",
       "    <tr>\n",
       "      <th>6</th>\n",
       "      <td>(burgers)</td>\n",
       "      <td>(spaghetti)</td>\n",
       "      <td>0.087200</td>\n",
       "      <td>0.174133</td>\n",
       "      <td>0.021467</td>\n",
       "      <td>0.246177</td>\n",
       "      <td>1.413729</td>\n",
       "      <td>1.0</td>\n",
       "      <td>0.006282</td>\n",
       "      <td>1.095572</td>\n",
       "      <td>0.320608</td>\n",
       "      <td>0.089494</td>\n",
       "      <td>0.087234</td>\n",
       "      <td>0.184727</td>\n",
       "    </tr>\n",
       "    <tr>\n",
       "      <th>7</th>\n",
       "      <td>(cake)</td>\n",
       "      <td>(eggs)</td>\n",
       "      <td>0.081067</td>\n",
       "      <td>0.179733</td>\n",
       "      <td>0.019067</td>\n",
       "      <td>0.235197</td>\n",
       "      <td>1.308591</td>\n",
       "      <td>1.0</td>\n",
       "      <td>0.004496</td>\n",
       "      <td>1.072521</td>\n",
       "      <td>0.256623</td>\n",
       "      <td>0.078875</td>\n",
       "      <td>0.067617</td>\n",
       "      <td>0.170640</td>\n",
       "    </tr>\n",
       "    <tr>\n",
       "      <th>8</th>\n",
       "      <td>(cake)</td>\n",
       "      <td>(french fries)</td>\n",
       "      <td>0.081067</td>\n",
       "      <td>0.170933</td>\n",
       "      <td>0.017867</td>\n",
       "      <td>0.220395</td>\n",
       "      <td>1.289361</td>\n",
       "      <td>1.0</td>\n",
       "      <td>0.004010</td>\n",
       "      <td>1.063444</td>\n",
       "      <td>0.244220</td>\n",
       "      <td>0.076310</td>\n",
       "      <td>0.059659</td>\n",
       "      <td>0.162459</td>\n",
       "    </tr>\n",
       "    <tr>\n",
       "      <th>9</th>\n",
       "      <td>(cake)</td>\n",
       "      <td>(mineral water)</td>\n",
       "      <td>0.081067</td>\n",
       "      <td>0.238267</td>\n",
       "      <td>0.027467</td>\n",
       "      <td>0.338816</td>\n",
       "      <td>1.422002</td>\n",
       "      <td>1.0</td>\n",
       "      <td>0.008151</td>\n",
       "      <td>1.152074</td>\n",
       "      <td>0.322947</td>\n",
       "      <td>0.094107</td>\n",
       "      <td>0.132000</td>\n",
       "      <td>0.227046</td>\n",
       "    </tr>\n",
       "  </tbody>\n",
       "</table>\n",
       "</div>"
      ],
      "text/plain": [
       "  antecedents      consequents  antecedent support  consequent support  \\\n",
       "0   (avocado)  (mineral water)            0.033200            0.238267   \n",
       "1   (burgers)           (eggs)            0.087200            0.179733   \n",
       "2   (burgers)   (french fries)            0.087200            0.170933   \n",
       "3   (burgers)      (green tea)            0.087200            0.132000   \n",
       "4   (burgers)           (milk)            0.087200            0.129600   \n",
       "5   (burgers)  (mineral water)            0.087200            0.238267   \n",
       "6   (burgers)      (spaghetti)            0.087200            0.174133   \n",
       "7      (cake)           (eggs)            0.081067            0.179733   \n",
       "8      (cake)   (french fries)            0.081067            0.170933   \n",
       "9      (cake)  (mineral water)            0.081067            0.238267   \n",
       "\n",
       "    support  confidence      lift  representativity  leverage  conviction  \\\n",
       "0  0.011467    0.345382  1.449559               1.0  0.003556    1.163629   \n",
       "1  0.028800    0.330275  1.837585               1.0  0.013127    1.224782   \n",
       "2  0.022000    0.252294  1.475976               1.0  0.007095    1.108813   \n",
       "3  0.017467    0.200306  1.517468               1.0  0.005956    1.085415   \n",
       "4  0.017867    0.204893  1.580964               1.0  0.006566    1.094695   \n",
       "5  0.024400    0.279817  1.174384               1.0  0.003623    1.057693   \n",
       "6  0.021467    0.246177  1.413729               1.0  0.006282    1.095572   \n",
       "7  0.019067    0.235197  1.308591               1.0  0.004496    1.072521   \n",
       "8  0.017867    0.220395  1.289361               1.0  0.004010    1.063444   \n",
       "9  0.027467    0.338816  1.422002               1.0  0.008151    1.152074   \n",
       "\n",
       "   zhangs_metric   jaccard  certainty  kulczynski  \n",
       "0       0.320785  0.044103   0.140620    0.196753  \n",
       "1       0.499351  0.120941   0.183528    0.245256  \n",
       "2       0.353289  0.093168   0.098135    0.190499  \n",
       "3       0.373584  0.086583   0.078693    0.166315  \n",
       "4       0.402580  0.089812   0.086504    0.171377  \n",
       "5       0.162675  0.081045   0.054546    0.191111  \n",
       "6       0.320608  0.089494   0.087234    0.184727  \n",
       "7       0.256623  0.078875   0.067617    0.170640  \n",
       "8       0.244220  0.076310   0.059659    0.162459  \n",
       "9       0.322947  0.094107   0.132000    0.227046  "
      ]
     },
     "execution_count": 18,
     "metadata": {},
     "output_type": "execute_result"
    }
   ],
   "source": [
    "rules.head(10)"
   ]
  },
  {
   "cell_type": "code",
   "execution_count": 27,
   "id": "b36750e6-16de-445f-849a-26bd8d116728",
   "metadata": {},
   "outputs": [
    {
     "name": "stdout",
     "output_type": "stream",
     "text": [
      "                            antecedents          consequents  \\\n",
      "75                      (herb & pepper)        (ground beef)   \n",
      "152          (mineral water, spaghetti)        (ground beef)   \n",
      "69                           (tomatoes)  (frozen vegetables)   \n",
      "67                             (shrimp)  (frozen vegetables)   \n",
      "143               (mineral water, milk)  (frozen vegetables)   \n",
      "153        (mineral water, ground beef)          (spaghetti)   \n",
      "144  (mineral water, frozen vegetables)               (milk)   \n",
      "149               (mineral water, milk)        (ground beef)   \n",
      "90                               (soup)               (milk)   \n",
      "80                        (ground beef)          (spaghetti)   \n",
      "\n",
      "     antecedent support  consequent support   support  confidence      lift  \\\n",
      "75             0.049467            0.098267  0.016000    0.323450  3.291555   \n",
      "152            0.059733            0.098267  0.017067    0.285714  2.907540   \n",
      "69             0.068400            0.095333  0.016133    0.235867  2.474134   \n",
      "67             0.071333            0.095333  0.016667    0.233645  2.450820   \n",
      "143            0.048000            0.095333  0.011067    0.230556  2.418415   \n",
      "153            0.040933            0.174133  0.017067    0.416938  2.394361   \n",
      "144            0.035733            0.129600  0.011067    0.309701  2.389672   \n",
      "149            0.048000            0.098267  0.011067    0.230556  2.346223   \n",
      "90             0.050533            0.129600  0.015200    0.300792  2.320923   \n",
      "80             0.098267            0.174133  0.039200    0.398915  2.290857   \n",
      "\n",
      "     representativity  leverage  conviction  zhangs_metric   jaccard  \\\n",
      "75                1.0  0.011139    1.332841       0.732423  0.121457   \n",
      "152               1.0  0.011197    1.262427       0.697745  0.121097   \n",
      "69                1.0  0.009613    1.183913       0.639564  0.109304   \n",
      "67                1.0  0.009866    1.180480       0.637444  0.111111   \n",
      "143               1.0  0.006491    1.175740       0.616078  0.083669   \n",
      "153               1.0  0.009939    1.416431       0.607207  0.086195   \n",
      "144               1.0  0.006436    1.260904       0.603083  0.071737   \n",
      "149               1.0  0.006350    1.171928       0.602713  0.081854   \n",
      "90                1.0  0.008651    1.244836       0.599428  0.092158   \n",
      "80                1.0  0.022088    1.373959       0.624888  0.168096   \n",
      "\n",
      "     certainty  kulczynski  \n",
      "75    0.249723    0.243136  \n",
      "152   0.207875    0.229696  \n",
      "69    0.155344    0.202549  \n",
      "67    0.152887    0.204235  \n",
      "143   0.149472    0.173320  \n",
      "153   0.294000    0.257474  \n",
      "144   0.206918    0.197546  \n",
      "149   0.146705    0.171587  \n",
      "90    0.196681    0.209038  \n",
      "80    0.272176    0.312015  \n"
     ]
    }
   ],
   "source": [
    "# Sorted rules by lift \n",
    "\n",
    "rules_sorted = rules.sort_values(by=\"lift\", ascending=False)\n",
    "\n",
    "print(rules_sorted.head(10))"
   ]
  },
  {
   "cell_type": "code",
   "execution_count": 20,
   "id": "11266fb9-0914-47c5-99b1-48402d5c0e45",
   "metadata": {},
   "outputs": [
    {
     "name": "stdout",
     "output_type": "stream",
     "text": [
      "Empty DataFrame\n",
      "Columns: [antecedents, consequents, antecedent support, consequent support, support, confidence, lift, representativity, leverage, conviction, zhangs_metric, jaccard, certainty, kulczynski]\n",
      "Index: []\n"
     ]
    }
   ],
   "source": [
    "# Filter rules with confidence > 0.5 and support > 0.02\n",
    "strong_rules = rules[(rules[\"confidence\"] > 0.5) & (rules[\"support\"] > 0.02)]\n",
    "print(strong_rules)"
   ]
  },
  {
   "cell_type": "code",
   "execution_count": 26,
   "id": "8ffe7125-ac44-4c9a-a684-06c715d75c1f",
   "metadata": {},
   "outputs": [
    {
     "name": "stderr",
     "output_type": "stream",
     "text": [
      "D:\\Anaconda\\Lib\\site-packages\\pandas\\core\\algorithms.py:522: DeprecationWarning: np.find_common_type is deprecated.  Please use `np.result_type` or `np.promote_types`.\n",
      "See https://numpy.org/devdocs/release/1.25.0-notes.html and the docs for more information.  (Deprecated NumPy 1.25)\n",
      "  common = np.find_common_type([values.dtype, comps_array.dtype], [])\n",
      "D:\\Anaconda\\Lib\\site-packages\\pandas\\core\\algorithms.py:522: DeprecationWarning: np.find_common_type is deprecated.  Please use `np.result_type` or `np.promote_types`.\n",
      "See https://numpy.org/devdocs/release/1.25.0-notes.html and the docs for more information.  (Deprecated NumPy 1.25)\n",
      "  common = np.find_common_type([values.dtype, comps_array.dtype], [])\n"
     ]
    },
    {
     "data": {
      "image/png": "[encoded data removed]",
      "text/plain": [
       "<Figure size 800x600 with 1 Axes>"
      ]
     },
     "metadata": {},
     "output_type": "display_data"
    }
   ],
   "source": [
    "# Data Visualization\n",
    "\n",
    "import seaborn as sns\n",
    "import matplotlib.pyplot as plt\n",
    "\n",
    "plt.figure(figsize=(8, 6))\n",
    "sns.scatterplot(x=rules[\"support\"], y=rules[\"confidence\"], size=rules[\"lift\"], hue=rules[\"lift\"], palette=\"coolwarm\", alpha=0.7)\n",
    "plt.xlabel(\"Support\")\n",
    "plt.ylabel(\"Confidence\")\n",
    "plt.title(\"Support vs Confidence with Lift as Size\")\n",
    "plt.show()"
   ]
  },
  {
   "cell_type": "code",
   "execution_count": null,
   "id": "3ff5834c-323f-463a-9cd6-df692fb15660",
   "metadata": {},
   "outputs": [],
   "source": []
  },
  {
   "cell_type": "code",
   "execution_count": 24,
   "id": "5934ccef-c22f-49d3-8dc2-c2e0455acbb4",
   "metadata": {},
   "outputs": [],
   "source": [
    "rules_sorted.to_csv(\"association_rules.csv\", index=False)"
   ]
  },
  {
   "cell_type": "code",
   "execution_count": 25,
   "id": "00738457-96ce-4d2c-900c-a89a8b6263ed",
   "metadata": {},
   "outputs": [
    {
     "name": "stdout",
     "output_type": "stream",
     "text": [
      "                                         antecedents  \\\n",
      "0                       frozenset({'herb & pepper'})   \n",
      "1          frozenset({'mineral water', 'spaghetti'})   \n",
      "2                            frozenset({'tomatoes'})   \n",
      "3                              frozenset({'shrimp'})   \n",
      "4               frozenset({'mineral water', 'milk'})   \n",
      "5        frozenset({'mineral water', 'ground beef'})   \n",
      "6  frozenset({'mineral water', 'frozen vegetables'})   \n",
      "7               frozenset({'mineral water', 'milk'})   \n",
      "8                                frozenset({'soup'})   \n",
      "9                         frozenset({'ground beef'})   \n",
      "\n",
      "                        consequents  antecedent support  consequent support  \\\n",
      "0        frozenset({'ground beef'})            0.049467            0.098267   \n",
      "1        frozenset({'ground beef'})            0.059733            0.098267   \n",
      "2  frozenset({'frozen vegetables'})            0.068400            0.095333   \n",
      "3  frozenset({'frozen vegetables'})            0.071333            0.095333   \n",
      "4  frozenset({'frozen vegetables'})            0.048000            0.095333   \n",
      "5          frozenset({'spaghetti'})            0.040933            0.174133   \n",
      "6               frozenset({'milk'})            0.035733            0.129600   \n",
      "7        frozenset({'ground beef'})            0.048000            0.098267   \n",
      "8               frozenset({'milk'})            0.050533            0.129600   \n",
      "9          frozenset({'spaghetti'})            0.098267            0.174133   \n",
      "\n",
      "    support  confidence      lift  representativity  leverage  conviction  \\\n",
      "0  0.016000    0.323450  3.291555               1.0  0.011139    1.332841   \n",
      "1  0.017067    0.285714  2.907540               1.0  0.011197    1.262427   \n",
      "2  0.016133    0.235867  2.474134               1.0  0.009613    1.183913   \n",
      "3  0.016667    0.233645  2.450820               1.0  0.009866    1.180480   \n",
      "4  0.011067    0.230556  2.418415               1.0  0.006491    1.175740   \n",
      "5  0.017067    0.416938  2.394361               1.0  0.009939    1.416431   \n",
      "6  0.011067    0.309701  2.389672               1.0  0.006436    1.260904   \n",
      "7  0.011067    0.230556  2.346223               1.0  0.006350    1.171928   \n",
      "8  0.015200    0.300792  2.320923               1.0  0.008651    1.244836   \n",
      "9  0.039200    0.398915  2.290857               1.0  0.022088    1.373959   \n",
      "\n",
      "   zhangs_metric   jaccard  certainty  kulczynski  \n",
      "0       0.732423  0.121457   0.249723    0.243136  \n",
      "1       0.697745  0.121097   0.207875    0.229696  \n",
      "2       0.639564  0.109304   0.155344    0.202549  \n",
      "3       0.637444  0.111111   0.152887    0.204235  \n",
      "4       0.616078  0.083669   0.149472    0.173320  \n",
      "5       0.607207  0.086195   0.294000    0.257474  \n",
      "6       0.603083  0.071737   0.206918    0.197546  \n",
      "7       0.602713  0.081854   0.146705    0.171587  \n",
      "8       0.599428  0.092158   0.196681    0.209038  \n",
      "9       0.624888  0.168096   0.272176    0.312015  \n"
     ]
    }
   ],
   "source": [
    "# saved rules CSV\n",
    "\n",
    "df_rules = pd.read_csv(\"association_rules.csv\")\n",
    "print(df_rules.head(10))  "
   ]
  },
  {
   "cell_type": "code",
   "execution_count": null,
   "id": "ac86c6c8-0eec-4f6c-87ed-ee9ad1f31f30",
   "metadata": {},
   "outputs": [],
   "source": []
  },
  {
   "cell_type": "markdown",
   "id": "af5c9a47-cfda-45bc-91a8-240475e0b02b",
   "metadata": {},
   "source": [
    "# Interview Questions \n",
    "\n",
    "## 1.What is lift and why is it important in Association rules?\n",
    "- **Lift** measures the strength of association between products.  \n",
    "- **Formula:**  \n",
    "  Lift(A → B) = Confidence(A → B) / Support(B)  \n",
    "- **Interpretation:**  \n",
    "  - **Lift > 1** → Strong association (A increases B's purchase likelihood).  \n",
    "  - **Lift = 1** → No relationship.  \n",
    "  - **Lift < 1** → Negative association.  \n",
    "\n",
    "---\n",
    "\n",
    "## 2.What is support and Confidence. How do you calculate them?\n",
    "\n",
    "- **Support:** Frequency of an item in transactions.  \n",
    "  Support(A) = Transactions with A / Total Transactions  \n",
    "- **Confidence:** Probability of buying B when A is bought.  \n",
    "  Confidence(A → B) = Support(A ∪ B) / Support(A)  \n",
    "\n",
    "---\n",
    "\n",
    "## 3.What are some limitations or challenges of Association rules mining?\n",
    "- **Computational Complexity** – Large datasets generate too many rules.  \n",
    "- **Threshold Selection** – Setting support & confidence too high/low affects results.  \n",
    "- **Redundant/Useless Rules** – Many rules may not be meaningful.  \n",
    "- **Rare Items Ignored** – Important but low-frequency products may be missed.  \n",
    "- **No Time Consideration** – Does not account for seasonal trends.  \n",
    "\n",
    "---\n"
   ]
  },
  {
   "cell_type": "code",
   "execution_count": null,
   "id": "0cb4a55c-9837-4cbd-8511-db72acd6e3ff",
   "metadata": {},
   "outputs": [],
   "source": []
  }
 ],
 "metadata": {
  "kernelspec": {
   "display_name": "Python 3 (ipykernel)",
   "language": "python",
   "name": "python3"
  },
  "language_info": {
   "codemirror_mode": {
    "name": "ipython",
    "version": 3
   },
   "file_extension": ".py",
   "mimetype": "text/x-python",
   "name": "python",
   "nbconvert_exporter": "python",
   "pygments_lexer": "ipython3",
   "version": "3.12.7"
  }
 },
 "nbformat": 4,
 "nbformat_minor": 5
}
