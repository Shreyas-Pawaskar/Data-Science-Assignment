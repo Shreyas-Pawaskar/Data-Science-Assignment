{
 "cells": [
  {
   "cell_type": "markdown",
   "id": "4073106b-579d-4dd3-94f4-b60f867f8b40",
   "metadata": {},
   "source": [
    "### **1. State the Hypotheses**\n",
    "\n",
    "- Null Hypothesis (\n",
    "𝐻\n",
    "0\n",
    "​\n",
    " ): The mean weekly operating cost follows the given model.\n",
    "- Alternative Hypothesis (\n",
    "𝐻\n",
    "1\n",
    "​\n",
    " ): The mean weekly operating cost is higher than the given model."
   ]
  },
  {
   "cell_type": "code",
   "execution_count": null,
   "id": "0e3c14ea-fa98-4ba8-8930-13d7cc06a2b5",
   "metadata": {},
   "outputs": [],
   "source": []
  },
  {
   "cell_type": "markdown",
   "id": "a62d2d9e-60ef-4d2e-a398-94ea0001c080",
   "metadata": {},
   "source": [
    "### **2. Calculate the Test Statistic**"
   ]
  },
  {
   "cell_type": "markdown",
   "id": "c5ea955c-73e3-4ad5-9285-f7b6c7f0b730",
   "metadata": {},
   "source": [
    "The formula used:\n",
    "$$ t = \\frac{\\bar{x} - \\mu}{\\sigma / \\sqrt{n}} $$\n"
   ]
  },
  {
   "cell_type": "code",
   "execution_count": 1,
   "id": "2bd423a0-9189-4955-b532-fc5b1672badf",
   "metadata": {},
   "outputs": [],
   "source": [
    "import scipy.stats as stats\n",
    "import numpy as np"
   ]
  },
  {
   "cell_type": "code",
   "execution_count": 2,
   "id": "3cdcab2c-6708-4570-beb6-ca5bda88894f",
   "metadata": {},
   "outputs": [],
   "source": [
    "#give Data\n",
    "\n",
    "sample_mean = 3050\n",
    "X = 600\n",
    "theoretical_mean = 1000 + 5 * X\n",
    "sigma = 5 * 25\n",
    "n = 25"
   ]
  },
  {
   "cell_type": "code",
   "execution_count": 3,
   "id": "9d9d8dce-fc3d-42d9-81c3-ea2d2e2f11ef",
   "metadata": {},
   "outputs": [],
   "source": [
    "# Calculate the test statistic\n",
    "t_statistic = (sample_mean - theoretical_mean) / (sigma / np.sqrt(n))"
   ]
  },
  {
   "cell_type": "code",
   "execution_count": 6,
   "id": "9e8b470a-b8e8-46f5-a4a9-e9ad40141644",
   "metadata": {},
   "outputs": [
    {
     "name": "stdout",
     "output_type": "stream",
     "text": [
      "Test Statistic :  -38.0\n"
     ]
    }
   ],
   "source": [
    "print(\"Test Statistic : \",t_statistic)"
   ]
  },
  {
   "cell_type": "code",
   "execution_count": null,
   "id": "b965c114-0484-488b-80e7-58b871501113",
   "metadata": {},
   "outputs": [],
   "source": []
  },
  {
   "cell_type": "markdown",
   "id": "ccbd1e6c-caf0-46e2-8667-7bcd4ea01c81",
   "metadata": {},
   "source": [
    "### **3. Determine the Critical Value**"
   ]
  },
  {
   "cell_type": "code",
   "execution_count": 9,
   "id": "0d4906a8-d838-44d6-823f-05b65aea5fc1",
   "metadata": {},
   "outputs": [],
   "source": [
    "df = n - 1  # degrees of freedom\n",
    "alpha = 0.05\n",
    "critical_value = stats.t.ppf(1 - alpha, df)"
   ]
  },
  {
   "cell_type": "code",
   "execution_count": 10,
   "id": "3bb468a3-c91e-4010-8b19-c2db3113b8f0",
   "metadata": {},
   "outputs": [
    {
     "name": "stdout",
     "output_type": "stream",
     "text": [
      "Critical Value 1.7108820799094275\n"
     ]
    }
   ],
   "source": [
    "print(\"Critical Value\",critical_value)"
   ]
  },
  {
   "cell_type": "code",
   "execution_count": null,
   "id": "ec3030df-3a1b-4988-abf2-763e5396a158",
   "metadata": {},
   "outputs": [],
   "source": []
  },
  {
   "cell_type": "markdown",
   "id": "ee13469f-b363-40a4-8502-fd27aecbd5c8",
   "metadata": {},
   "source": [
    "### **4. Make a Decision**"
   ]
  },
  {
   "cell_type": "code",
   "execution_count": 15,
   "id": "f1865d3e-6d10-457a-b2f7-1b1d3f323d63",
   "metadata": {},
   "outputs": [
    {
     "name": "stdout",
     "output_type": "stream",
     "text": [
      "Fail to reject the null hypothesis: No strong evidence that the operating cost is higher.\n"
     ]
    }
   ],
   "source": [
    "if t_statistic > critical_value:\n",
    "    decision = \"Reject the null hypothesis: The operating cost is significantly higher than the model.\"\n",
    "else:\n",
    "    decision = \"Fail to reject the null hypothesis: No strong evidence that the operating cost is higher.\"\n",
    "    \n",
    "print(decision)"
   ]
  },
  {
   "cell_type": "code",
   "execution_count": null,
   "id": "ca1fed98-2e98-41ff-9c8e-c5cbe0e7fc9e",
   "metadata": {},
   "outputs": [],
   "source": []
  },
  {
   "cell_type": "markdown",
   "id": "4673804f-e63b-4493-90a3-ebdb177cfa9c",
   "metadata": {},
   "source": [
    "### **5. Conclusion**"
   ]
  },
  {
   "cell_type": "code",
   "execution_count": 17,
   "id": "83defded-be38-4b00-b3a6-7cdc296ec5db",
   "metadata": {},
   "outputs": [
    {
     "name": "stdout",
     "output_type": "stream",
     "text": [
      "Hypothesis Testing Results:\n",
      "Test Statistic (t): -38.0000\n",
      "Critical Value: 1.7109\n",
      "Decision: Fail to reject the null hypothesis: No strong evidence that the operating cost is higher.\n"
     ]
    }
   ],
   "source": [
    "print(\"Hypothesis Testing Results:\")\n",
    "print(f\"Test Statistic (t): {t_statistic:.4f}\")\n",
    "print(f\"Critical Value: {critical_value:.4f}\")\n",
    "print(f\"Decision: {decision}\")"
   ]
  },
  {
   "cell_type": "code",
   "execution_count": null,
   "id": "e321b077-e22a-4d6c-8f45-c37d87e9afc7",
   "metadata": {},
   "outputs": [],
   "source": []
  }
 ],
 "metadata": {
  "kernelspec": {
   "display_name": "Python 3 (ipykernel)",
   "language": "python",
   "name": "python3"
  },
  "language_info": {
   "codemirror_mode": {
    "name": "ipython",
    "version": 3
   },
   "file_extension": ".py",
   "mimetype": "text/x-python",
   "name": "python",
   "nbconvert_exporter": "python",
   "pygments_lexer": "ipython3",
   "version": "3.12.7"
  }
 },
 "nbformat": 4,
 "nbformat_minor": 5
}
